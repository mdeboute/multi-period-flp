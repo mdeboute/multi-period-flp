{
 "cells": [
  {
   "cell_type": "code",
   "execution_count": 3,
   "metadata": {},
   "outputs": [],
   "source": [
    "def get_result(file_path):\n",
    "    results = []\n",
    "    with open(file_path, 'r') as f:\n",
    "        data = f.read()\n",
    "        for line in data.split(\"\\n\")[:-1]:\n",
    "            instance_name = line.split(\";\")[0].split(\":\")[0].split(\"/\")[-1]\n",
    "            runtime = float(line.split(\";\")[0].split(\":\")[-1].split(\"=\")[1].split(\"sec\")[0])\n",
    "            obj_value = int(line.split(\";\")[1].split(\"=\")[1])\n",
    "            result = (instance_name, runtime, obj_value)\n",
    "            results.append(result)\n",
    "    return results"
   ]
  },
  {
   "cell_type": "code",
   "execution_count": 6,
   "metadata": {},
   "outputs": [],
   "source": [
    "heuristic_results = get_result(\"log/H/results_300.csv\")"
   ]
  },
  {
   "cell_type": "code",
   "execution_count": 7,
   "metadata": {},
   "outputs": [],
   "source": [
    "mip_results = get_result(\"log/MIP/results_300.csv\")"
   ]
  },
  {
   "cell_type": "code",
   "execution_count": null,
   "metadata": {},
   "outputs": [],
   "source": []
  }
 ],
 "metadata": {
  "kernelspec": {
   "display_name": ".venv",
   "language": "python",
   "name": "python3"
  },
  "language_info": {
   "codemirror_mode": {
    "name": "ipython",
    "version": 3
   },
   "file_extension": ".py",
   "mimetype": "text/x-python",
   "name": "python",
   "nbconvert_exporter": "python",
   "pygments_lexer": "ipython3",
   "version": "3.8.1 (v3.8.1:1b293b6006, Dec 18 2019, 14:08:53) \n[Clang 6.0 (clang-600.0.57)]"
  },
  "orig_nbformat": 4,
  "vscode": {
   "interpreter": {
    "hash": "167d5f7996284fc178a5407d4c3bba3d103f412f41b53ab2093aef6b09618a19"
   }
  }
 },
 "nbformat": 4,
 "nbformat_minor": 2
}
