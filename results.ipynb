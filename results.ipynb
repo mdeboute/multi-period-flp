{
 "cells": [
  {
   "cell_type": "code",
   "execution_count": 63,
   "metadata": {},
   "outputs": [],
   "source": [
    "def get_result(file_path):\n",
    "    results = []\n",
    "    with open(file_path, 'r') as f:\n",
    "        data = f.read()\n",
    "        for line in data.split(\"\\n\")[:-1]:\n",
    "            instance_name = line.split(\";\")[0].split(\":\")[0].split(\"/\")[-1]\n",
    "            runtime = float(line.split(\";\")[0].split(\":\")[-1].split(\"=\")[1].split(\"sec\")[0])\n",
    "            obj_value = int(line.split(\";\")[1].split(\"=\")[1])\n",
    "            result = [instance_name, runtime, obj_value]\n",
    "            if len(line.split(\";\")) == 3:\n",
    "                gap = float(line.split(\";\")[2].split(\"=\")[1].split(\"%\")[0])\n",
    "                result = [instance_name, runtime, obj_value, gap]\n",
    "            results.append(result)\n",
    "    return results"
   ]
  },
  {
   "cell_type": "code",
   "execution_count": 64,
   "metadata": {},
   "outputs": [
    {
     "data": {
      "text/plain": [
       "[['log_instMulti_I10_J50_T3_0.txt', 0.0, 34509],\n",
       " ['log_instMulti_I10_J50_T3_1.txt', 0.0, 36641],\n",
       " ['log_instMulti_I20_J1000_T8_0.txt', 0.19, 731218],\n",
       " ['log_instMulti_I20_J1000_T8_1.txt', 0.19, 807798]]"
      ]
     },
     "execution_count": 64,
     "metadata": {},
     "output_type": "execute_result"
    }
   ],
   "source": [
    "heuristic_results = get_result(\"log/H/results_300.csv\")\n",
    "heuristic_results"
   ]
  },
  {
   "cell_type": "code",
   "execution_count": 65,
   "metadata": {},
   "outputs": [
    {
     "data": {
      "text/plain": [
       "[['log_instMulti_I10_J50_T3_0.txt', 0.25, 34325, 0.0],\n",
       " ['log_instMulti_I10_J50_T3_1.txt', 0.14, 36519, 0.0],\n",
       " ['log_instMulti_I20_J1000_T8_0.txt', 279.18, 718670, 0.0],\n",
       " ['log_instMulti_I20_J1000_T8_1.txt', 293.36, 797646, 0.0]]"
      ]
     },
     "execution_count": 65,
     "metadata": {},
     "output_type": "execute_result"
    }
   ],
   "source": [
    "mip_results = get_result(\"log/MIP/results_300.csv\")\n",
    "mip_results"
   ]
  },
  {
   "cell_type": "code",
   "execution_count": 66,
   "metadata": {},
   "outputs": [
    {
     "data": {
      "text/plain": [
       "[['log_instMulti_I10_J50_T3_0.txt', 0.0, 34509, 0.5332],\n",
       " ['log_instMulti_I10_J50_T3_1.txt', 0.0, 36641, 0.333],\n",
       " ['log_instMulti_I20_J1000_T8_0.txt', 0.19, 731218, 1.716],\n",
       " ['log_instMulti_I20_J1000_T8_1.txt', 0.19, 807798, 1.2567]]"
      ]
     },
     "execution_count": 66,
     "metadata": {},
     "output_type": "execute_result"
    }
   ],
   "source": [
    "import math\n",
    "def compute_heuristic_gap(heuristic_results, mip_results):\n",
    "    heuristic_gaps = []\n",
    "    if len(heuristic_results) != len(mip_results):\n",
    "        raise Exception(\"Heuristic and MIP results have different lengths\")\n",
    "    for i in range(len(heuristic_results)):\n",
    "        obj_h = heuristic_results[i][2]\n",
    "        obj_m = mip_results[i][2]\n",
    "        gap_m = mip_results[i][3]\n",
    "        heuristic_gaps.append(float(\"{:.4f}\".format(((abs(obj_m - obj_h) / obj_h) * 100) + gap_m)))\n",
    "\n",
    "    for i in range(len(heuristic_gaps)):\n",
    "        heuristic_results[i].append(heuristic_gaps[i])\n",
    "\n",
    "compute_heuristic_gap(heuristic_results, mip_results)\n",
    "heuristic_results"
   ]
  },
  {
   "cell_type": "code",
   "execution_count": 94,
   "metadata": {},
   "outputs": [],
   "source": [
    "import matplotlib.pyplot as plt\n",
    "import numpy as np"
   ]
  }
 ],
 "metadata": {
  "kernelspec": {
   "display_name": ".venv",
   "language": "python",
   "name": "python3"
  },
  "language_info": {
   "codemirror_mode": {
    "name": "ipython",
    "version": 3
   },
   "file_extension": ".py",
   "mimetype": "text/x-python",
   "name": "python",
   "nbconvert_exporter": "python",
   "pygments_lexer": "ipython3",
   "version": "3.8.1"
  },
  "orig_nbformat": 4,
  "vscode": {
   "interpreter": {
    "hash": "167d5f7996284fc178a5407d4c3bba3d103f412f41b53ab2093aef6b09618a19"
   }
  }
 },
 "nbformat": 4,
 "nbformat_minor": 2
}
